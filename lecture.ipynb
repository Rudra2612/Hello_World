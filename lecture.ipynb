{
  "nbformat": 4,
  "nbformat_minor": 0,
  "metadata": {
    "colab": {
      "provenance": [],
      "authorship_tag": "ABX9TyM+QlizDBkqf6cPfkTSIjvi",
      "include_colab_link": true
    },
    "kernelspec": {
      "name": "python3",
      "display_name": "Python 3"
    },
    "language_info": {
      "name": "python"
    }
  },
  "cells": [
    {
      "cell_type": "markdown",
      "metadata": {
        "id": "view-in-github",
        "colab_type": "text"
      },
      "source": [
        "<a href=\"https://colab.research.google.com/github/Rudra2612/Hello_World/blob/main/lecture.ipynb\" target=\"_parent\"><img src=\"https://colab.research.google.com/assets/colab-badge.svg\" alt=\"Open In Colab\"/></a>"
      ]
    },
    {
      "cell_type": "code",
      "execution_count": null,
      "metadata": {
        "colab": {
          "base_uri": "https://localhost:8080/"
        },
        "id": "hC8bwLrAyX17",
        "outputId": "e43df79b-68b3-47ff-eed2-337f7831e863"
      },
      "outputs": [
        {
          "output_type": "stream",
          "name": "stdout",
          "text": [
            "rudra\n"
          ]
        }
      ],
      "source": [
        "print(\"rudra\")"
      ]
    },
    {
      "cell_type": "code",
      "source": [
        "# list\n",
        "\n",
        "a=[12,34,56,8,2,56,123,5,78,2,-2,57,13,45,76,123,34,65,34,1,123,56,23,345,24,345,235]\n",
        "print(a)\n",
        "a.append(90)\n",
        "print('insert value on last position(append(val)) :',a)\n",
        "print('length of a(len(variable of list)) :',len(a))\n",
        "a.insert(1,123)\n",
        "print('insert value on particular position(insert(pos,val)) :',a)\n",
        "a[0]=7\n",
        "print('change value of 0 position(a[0]) :',a)\n",
        "a.pop()\n",
        "print('delete value on last position(pop()) :',a)\n",
        "a.pop(2)\n",
        "print('delete value of particular position(pop(pos)) :',a)\n",
        "a.remove(2)\n",
        "print('delete value pass on method/funtion(remove(val)) :',a)\n",
        "print('maximum number of list(max(variable of list)) :',max(a))\n",
        "print('minimum number of list(min(variable of list)) :',min(a))\n",
        "print('sum of all number in list(sum(variable of list)) :',sum(a))\n",
        "a.sort()\n",
        "#minmum to maximum\n",
        "print('sort data of list(sort()) :',a)\n",
        "a.sort(reverse=True)\n",
        "#maximum to minimum\n",
        "print('sort data in reverse order in list(sort(revderse=True)) :',a)\n",
        "b=[12,23,34,45]\n",
        "a.extend(b)\n",
        "#list 'b' add in list 'a'\n",
        "print('add a list in another list after last position(extend(variable of list)) :',a)\n",
        "z=a.copy()\n",
        "print('copy list in another list(copy()) :',z)\n",
        "y=a.index(123)\n",
        "print('find index of paricular value(index(val)) :',y)\n",
        "x=a.count(123)\n",
        "print('find how many times particular value occurs in list(count(val)) :',x)"
      ],
      "metadata": {
        "colab": {
          "base_uri": "https://localhost:8080/"
        },
        "id": "vKuDQwOo_poX",
        "outputId": "3e78d00f-5662-490d-98bd-6b2a044603a3"
      },
      "execution_count": null,
      "outputs": [
        {
          "output_type": "stream",
          "name": "stdout",
          "text": [
            "[12, 34, 56, 8, 2, 56, 123, 5, 78, 2, -2, 57, 13, 45, 76, 123, 34, 65, 34, 1, 123, 56, 23, 345, 24, 345, 235]\n",
            "insert value on last position(append(val)) : [12, 34, 56, 8, 2, 56, 123, 5, 78, 2, -2, 57, 13, 45, 76, 123, 34, 65, 34, 1, 123, 56, 23, 345, 24, 345, 235, 90]\n",
            "length of a(len(variable of list)) : 28\n",
            "insert value on particular position(insert(pos,val)) : [12, 123, 34, 56, 8, 2, 56, 123, 5, 78, 2, -2, 57, 13, 45, 76, 123, 34, 65, 34, 1, 123, 56, 23, 345, 24, 345, 235, 90]\n",
            "change value of 0 position(a[0]) : [7, 123, 34, 56, 8, 2, 56, 123, 5, 78, 2, -2, 57, 13, 45, 76, 123, 34, 65, 34, 1, 123, 56, 23, 345, 24, 345, 235, 90]\n",
            "delete value on last position(pop()) : [7, 123, 34, 56, 8, 2, 56, 123, 5, 78, 2, -2, 57, 13, 45, 76, 123, 34, 65, 34, 1, 123, 56, 23, 345, 24, 345, 235]\n",
            "delete value of particular position(pop(pos)) : [7, 123, 56, 8, 2, 56, 123, 5, 78, 2, -2, 57, 13, 45, 76, 123, 34, 65, 34, 1, 123, 56, 23, 345, 24, 345, 235]\n",
            "delete value pass on method/funtion(remove(val)) : [7, 123, 56, 8, 56, 123, 5, 78, 2, -2, 57, 13, 45, 76, 123, 34, 65, 34, 1, 123, 56, 23, 345, 24, 345, 235]\n",
            "maximum number of list(max(variable of list)) : 345\n",
            "minimum number of list(min(variable of list)) : -2\n",
            "sum of all number in list(sum(variable of list)) : 2055\n",
            "sort data of list(sort()) : [-2, 1, 2, 5, 7, 8, 13, 23, 24, 34, 34, 45, 56, 56, 56, 57, 65, 76, 78, 123, 123, 123, 123, 235, 345, 345]\n",
            "sort data in reverse order in list(sort(revderse=True)) : [345, 345, 235, 123, 123, 123, 123, 78, 76, 65, 57, 56, 56, 56, 45, 34, 34, 24, 23, 13, 8, 7, 5, 2, 1, -2]\n",
            "add a list in another list after last position(extend(variable of list)) : [345, 345, 235, 123, 123, 123, 123, 78, 76, 65, 57, 56, 56, 56, 45, 34, 34, 24, 23, 13, 8, 7, 5, 2, 1, -2, 12, 23, 34, 45]\n",
            "copy list in another list(copy()) : [345, 345, 235, 123, 123, 123, 123, 78, 76, 65, 57, 56, 56, 56, 45, 34, 34, 24, 23, 13, 8, 7, 5, 2, 1, -2, 12, 23, 34, 45]\n",
            "find index of paricular value(index(val)) : 3\n",
            "find how many times particular value occurs in list(count(val)) : 4\n"
          ]
        }
      ]
    },
    {
      "cell_type": "code",
      "source": [
        "# tuple\n",
        "\n",
        "x=(12,23,34,45)\n",
        "print(x)\n",
        "print(max(x))\n",
        "print(min(x))\n",
        "print(sum(x))\n",
        "print(len(x))"
      ],
      "metadata": {
        "id": "N6129Drf_53w",
        "colab": {
          "base_uri": "https://localhost:8080/"
        },
        "outputId": "99f05ffc-47c9-4d1f-b5c3-4cd79c5fa274"
      },
      "execution_count": null,
      "outputs": [
        {
          "output_type": "stream",
          "name": "stdout",
          "text": [
            "(12, 23, 34, 45)\n",
            "45\n",
            "12\n",
            "114\n",
            "4\n"
          ]
        }
      ]
    },
    {
      "cell_type": "code",
      "source": [
        "# set\n",
        "\n",
        "a={12,23,34,455,65,67,12}\n",
        "# In set no particular index for value\n",
        "'''set only have unique value. it not contain repetitive values.\n",
        "  if any repetitive values are in set,it aotomatically remove it.'''\n",
        "print(a)\n",
        "print(len(a))\n",
        "print(max(a))\n",
        "print(min(a))\n",
        "print(sum(a))\n",
        "a.add(24)\n",
        "print('add value un set :',a)\n",
        "a.pop()\n",
        "print('remove value in set :',a)\n",
        "a.remove(23)\n",
        "# it shows error if value not found in set which you want to remove.\n",
        "print('remove paricular value in set (23) :',a)\n",
        "a.discard(234)\n",
        "# it remove the value if set have that value otherwise it not show any error.\n",
        "print('remove paricular value in set (234) :',a)\n",
        "\n",
        "\n",
        "x1={12,23,34,45,56,67}\n",
        "x2={12,67,89,27,37,59,125}\n",
        "a=x1.union(x2)\n",
        "# all value at one time from x1 & x2 sets.\n",
        "b=x1.intersection(x2)\n",
        "# commom value in x1 & x2 sets.\n",
        "print(\"union of x1 & x2 :\",a)\n",
        "print('intersection of x1 & x2 :',b)\n"
      ],
      "metadata": {
        "colab": {
          "base_uri": "https://localhost:8080/"
        },
        "id": "gtpIh-JohwRF",
        "outputId": "5608c02d-dcfd-4a63-f429-00b59ce9b870"
      },
      "execution_count": null,
      "outputs": [
        {
          "output_type": "stream",
          "name": "stdout",
          "text": [
            "{65, 34, 67, 23, 455, 12}\n",
            "6\n",
            "455\n",
            "12\n",
            "656\n",
            "add value un set : {65, 34, 67, 23, 455, 24, 12}\n",
            "remove value in set : {34, 67, 23, 455, 24, 12}\n",
            "remove paricular value in set (23) : {34, 67, 455, 24, 12}\n",
            "remove paricular value in set (234) : {34, 67, 455, 24, 12}\n",
            "union of x1 & x2 : {34, 67, 37, 59, 12, 45, 23, 56, 89, 27, 125}\n",
            "intersection of x1 & x2 : {67, 12}\n"
          ]
        }
      ]
    },
    {
      "cell_type": "code",
      "source": [
        "# dict\n",
        "\n",
        "a={'name':'rudra','age':20}\n",
        "print(a)\n",
        "print(a['name'])\n",
        "print(a['age'])\n",
        "\n",
        "a={'name':['rudra','vismay','mayank','harshil'],'age':[20,19,21,18]}\n",
        "print(a)\n",
        "print(a['name'])\n",
        "print(a['age'])\n",
        "print('age of harshil :',a['age'][a['name'].index('harshil')])\n",
        "\n",
        "a['income'] = [20000,30000,12000,15000]\n",
        "print(a)\n",
        "# a.pop('age')\n",
        "del a['age']\n",
        "print(a)\n",
        "\n",
        "print(a.keys())\n",
        "print(a.values())"
      ],
      "metadata": {
        "colab": {
          "base_uri": "https://localhost:8080/"
        },
        "id": "k_gLPbNwl1NE",
        "outputId": "83a1fd0a-6145-4a8c-af04-6a3aa6ee7218"
      },
      "execution_count": null,
      "outputs": [
        {
          "output_type": "stream",
          "name": "stdout",
          "text": [
            "{'name': 'rudra', 'age': 20}\n",
            "rudra\n",
            "20\n",
            "{'name': ['rudra', 'vismay', 'mayank', 'harshil'], 'age': [20, 19, 21, 18]}\n",
            "['rudra', 'vismay', 'mayank', 'harshil']\n",
            "[20, 19, 21, 18]\n",
            "age of harshil : 18\n",
            "{'name': ['rudra', 'vismay', 'mayank', 'harshil'], 'age': [20, 19, 21, 18], 'income': [20000, 30000, 12000, 15000]}\n",
            "{'name': ['rudra', 'vismay', 'mayank', 'harshil'], 'income': [20000, 30000, 12000, 15000]}\n",
            "dict_keys(['name', 'income'])\n",
            "dict_values([['rudra', 'vismay', 'mayank', 'harshil'], [20000, 30000, 12000, 15000]])\n"
          ]
        }
      ]
    },
    {
      "cell_type": "code",
      "source": [
        "'''\n",
        "Conditions:-\n",
        "    1. if(condition):\n",
        "\n",
        "    2. if(condition):\n",
        "      else:\n",
        "\n",
        "    3. if(condition):\n",
        "      elif(condition):\n",
        "      else:\n",
        "\n",
        "    4. if(condition):\n",
        "        if(condition):\n",
        "        else:\n",
        "      else:\n",
        "        if(condition):\n",
        "        else:\n",
        "'''"
      ],
      "metadata": {
        "id": "eccCyrpqujMr"
      },
      "execution_count": null,
      "outputs": []
    },
    {
      "cell_type": "code",
      "source": [
        "'''\n",
        "Operator:-\n",
        "    1. arithmetic operator:\n",
        "            +   -   *   /   %   **   //\n",
        "    2. comparison operator:\n",
        "            =   !=   <   >   <=   >=\n",
        "    3. assignment operator:\n",
        "            =   +=   -=   *=   /=   %=   **=   //=\n",
        "    4. logical operator:\n",
        "            and   or   not\n",
        "    5. membership operator:\n",
        "            in   not in\n",
        "    6. identity operator:\n",
        "            is   is not\n",
        "    7. bitwiae operator:\n",
        "            &   |    ^   ~   <<   >>\n",
        "'''"
      ],
      "metadata": {
        "id": "ANOm00yj_Z2t"
      },
      "execution_count": null,
      "outputs": []
    },
    {
      "cell_type": "code",
      "source": [
        "'''\n",
        "Funtion:-\n",
        "print() - It is used for print the values to a stream.\n",
        "type()  - it is used for see object's data type.\n",
        "input() - It is used for take value from user and by default data type of it is str.\n",
        "id()    - It is used for find memory location of variable.\n",
        "int()   - It is used for convert data type of value to int.\n",
        "float() - It is used for convert data type of value to float.\n",
        "str()   - It is used for convert data type of value to str.\n",
        "len()   - It is used for find length of string, list, tuple, set.\n",
        "'''"
      ],
      "metadata": {
        "id": "_JiGnS7-_cEh"
      },
      "execution_count": null,
      "outputs": []
    },
    {
      "cell_type": "code",
      "source": [
        "'''\n",
        "Loops:-\n",
        "1. for loop:\n",
        "      syntax,\n",
        "          for variable_name in range(starting_point,ending_point,step):\n",
        "          for variable_name in name_of_string/name_of_list:\n",
        "2. while loop:\n",
        "      syntax,\n",
        "          initializ_variable\n",
        "          while(condition):\n",
        "            increment/decrement\n",
        "'''"
      ],
      "metadata": {
        "id": "-Ow2mZDd_nxJ"
      },
      "execution_count": null,
      "outputs": []
    },
    {
      "cell_type": "code",
      "source": [
        "# task of for loop:-\n",
        "\n",
        "# task-1:\n",
        "a=[74,8,2,56,86,21,65,329,12,34,1,5,96,35]\n",
        "for i in a:\n",
        "  if(i%2==0):\n",
        "    print(i,\"is even number.\")\n",
        "  else:\n",
        "    print(i,\"is odd number.\")\n",
        "\n",
        "\n",
        "print()\n",
        "# task-2:\n",
        "a=5\n",
        "var=1\n",
        "for i in range(1,a+1):\n",
        "  var*=i\n",
        "print('Factorial of',a,'is',var)\n",
        "\n",
        "\n",
        "print()\n",
        "# task-3:\n",
        "a=[2,3,4,5,8]\n",
        "for i in a:\n",
        "  var=1\n",
        "  for j in range(1,i+1):\n",
        "    var*=j\n",
        "  print('Factorial of',i,'is',var)\n",
        "\n",
        "\n",
        "print()\n",
        "# task-4:\n",
        "a=[12,23,46,68,24,13]\n",
        "b=[23,12,45,24,62,6]\n",
        "for i,j in zip(a,b):\n",
        "  if(i>j):\n",
        "    print('a')\n",
        "  else:\n",
        "    print('b')\n",
        "\n",
        "\n",
        "print()\n",
        "# task-5:\n",
        "a=[12,23,46,68,24,13]\n",
        "b=[23,12,45,24,62,6]\n",
        "c=[23,34,56,8,45,1]\n",
        "for i,j,k in zip(a,b,c):\n",
        "  print(i,' ',j,' ',k)\n",
        "\n",
        "\n",
        "print()\n",
        "# task-6:\n",
        "a=[21,4,56,78,34,1,6,8,5,34,23,2]\n",
        "y=23\n",
        "for i in a:\n",
        "  if(i>y):\n",
        "    print(i)"
      ],
      "metadata": {
        "colab": {
          "base_uri": "https://localhost:8080/"
        },
        "id": "3AKr1HVa_qkJ",
        "outputId": "707c0342-b9d2-4613-dc4c-525a26d102cc"
      },
      "execution_count": null,
      "outputs": [
        {
          "output_type": "stream",
          "name": "stdout",
          "text": [
            "74 is even number.\n",
            "8 is even number.\n",
            "2 is even number.\n",
            "56 is even number.\n",
            "86 is even number.\n",
            "21 is odd number.\n",
            "65 is odd number.\n",
            "329 is odd number.\n",
            "12 is even number.\n",
            "34 is even number.\n",
            "1 is odd number.\n",
            "5 is odd number.\n",
            "96 is even number.\n",
            "35 is odd number.\n",
            "\n",
            "Factorial of 5 is 120\n",
            "\n",
            "Factorial of 2 is 2\n",
            "Factorial of 3 is 6\n",
            "Factorial of 4 is 24\n",
            "Factorial of 5 is 120\n",
            "Factorial of 8 is 40320\n",
            "\n",
            "b\n",
            "a\n",
            "a\n",
            "a\n",
            "b\n",
            "a\n",
            "\n",
            "12   23   23\n",
            "23   12   34\n",
            "46   45   56\n",
            "68   24   8\n",
            "24   62   45\n",
            "13   6   1\n",
            "\n",
            "56\n",
            "78\n",
            "34\n",
            "34\n"
          ]
        }
      ]
    },
    {
      "cell_type": "code",
      "source": [
        "# pattern using for loop:\n",
        "\n",
        "# task-1:\n",
        "    ####\n",
        "print(4*'#')\n",
        "\n",
        "\n",
        "print()\n",
        "# task-2:\n",
        "    ####\n",
        "    ####\n",
        "    ####\n",
        "    ####\n",
        "for i in range(4):\n",
        "  print(4*'#')\n",
        "\n",
        "\n",
        "print()\n",
        "# task-3:\n",
        "    #\n",
        "    ##\n",
        "    ###\n",
        "    ####\n",
        "# 1.\n",
        "for i in range(4):\n",
        "  print((i+1)*'#')\n",
        "print()\n",
        "# 2.\n",
        "for i in range(4):\n",
        "  for j in range(i+1):\n",
        "    print('#',end='')\n",
        "  print()\n",
        "\n",
        "\n",
        "print()\n",
        "# task-4:\n",
        "    ####\n",
        "    ###\n",
        "    ##\n",
        "    #\n",
        "# 1.\n",
        "for i in range(4,-1,-1):\n",
        "  print((i)*'#')\n",
        "print()\n",
        "# 2.\n",
        "for i in range(4):\n",
        "  print((4-i)*'#')\n",
        "print()\n",
        "# 3.\n",
        "for i in range(4,-1,-1):\n",
        "  for j in range(i):\n",
        "    print('#',end='')\n",
        "  print()\n",
        "\n",
        "\n",
        "print()\n",
        "# task-5:\n",
        "       #\n",
        "      ##\n",
        "     ###\n",
        "    ####\n",
        "# 1.\n",
        "for i in range(4):\n",
        "  print((3-i)*' ',(i+1)*'#')\n",
        "print()\n",
        "# 2.\n",
        "for i in range(4):\n",
        "  for s in range(3-i):\n",
        "    print(' ',end='')\n",
        "  for j in range(i+1):\n",
        "    print('#',end='')\n",
        "  print()\n",
        "\n",
        "\n",
        "print()\n",
        "# task-6:\n",
        "    ####\n",
        "     ###\n",
        "      ##\n",
        "       #\n",
        "# 1.\n",
        "for i in range(4):\n",
        "  print((i)*' ',(4-i)*'#')\n",
        "print()\n",
        "# 2.\n",
        "for i in range(4):\n",
        "  for s in range(i):\n",
        "    print(' ',end='')\n",
        "  for j in range(4-i):\n",
        "    print('#',end='')\n",
        "  print()\n",
        "\n",
        "\n",
        "print()\n",
        "# task-7:\n",
        "       #\n",
        "      ###\n",
        "     #####\n",
        "    #######\n",
        "# 1.\n",
        "for i in range(4):\n",
        "  print((3-i)*' ',((2*i)+1)*'#')\n",
        "print()\n",
        "# 2.\n",
        "for i in range(4):\n",
        "  for s in range(3-i):\n",
        "    print(' ',end='')\n",
        "  for j in range(2*i+1):\n",
        "    print('#',end='')\n",
        "  print()"
      ],
      "metadata": {
        "colab": {
          "base_uri": "https://localhost:8080/"
        },
        "id": "xV3Zu6qM_3OI",
        "outputId": "e360599a-72c8-42d9-cac1-40910f517820"
      },
      "execution_count": null,
      "outputs": [
        {
          "output_type": "stream",
          "name": "stdout",
          "text": [
            "####\n",
            "\n",
            "####\n",
            "####\n",
            "####\n",
            "####\n",
            "\n",
            "#\n",
            "##\n",
            "###\n",
            "####\n",
            "\n",
            "#\n",
            "##\n",
            "###\n",
            "####\n",
            "\n",
            "####\n",
            "###\n",
            "##\n",
            "#\n",
            "\n",
            "\n",
            "####\n",
            "###\n",
            "##\n",
            "#\n",
            "\n",
            "####\n",
            "###\n",
            "##\n",
            "#\n",
            "\n",
            "\n",
            "    #\n",
            "   ##\n",
            "  ###\n",
            " ####\n",
            "\n",
            "   #\n",
            "  ##\n",
            " ###\n",
            "####\n",
            "\n",
            " ####\n",
            "  ###\n",
            "   ##\n",
            "    #\n",
            "\n",
            "####\n",
            " ###\n",
            "  ##\n",
            "   #\n",
            "\n",
            "    #\n",
            "   ###\n",
            "  #####\n",
            " #######\n",
            "\n",
            "   #\n",
            "  ###\n",
            " #####\n",
            "#######\n"
          ]
        }
      ]
    },
    {
      "cell_type": "code",
      "source": [
        "# task of while loop:-\n",
        "\n",
        "# task-1:\n",
        "n=1\n",
        "while(n<=10):\n",
        "  print(5*n)\n",
        "  n+=1\n",
        "\n",
        "\n",
        "print()\n",
        "# task-2:\n",
        "a=5\n",
        "var=1\n",
        "n=1\n",
        "while(n<=a):\n",
        "  var*=n\n",
        "  n+=1\n",
        "print('Factorial of',a,'is',var)"
      ],
      "metadata": {
        "colab": {
          "base_uri": "https://localhost:8080/"
        },
        "id": "UHJOfKr-_9F9",
        "outputId": "6c8fd69c-9da5-4d51-8351-0aebb0faf1ef"
      },
      "execution_count": null,
      "outputs": [
        {
          "output_type": "stream",
          "name": "stdout",
          "text": [
            "5\n",
            "10\n",
            "15\n",
            "20\n",
            "25\n",
            "30\n",
            "35\n",
            "40\n",
            "45\n",
            "50\n",
            "\n",
            "Factorial of 5 is 120\n"
          ]
        }
      ]
    },
    {
      "cell_type": "code",
      "source": [
        "# pattern using while loop:\n",
        "\n",
        "# task-1:\n",
        "    #\n",
        "    ##\n",
        "    ###\n",
        "    ####\n",
        "n=1\n",
        "while(n<=4):\n",
        "  print(n*'#')\n",
        "  n+=1\n",
        "\n",
        "\n",
        "print()\n",
        "# taks-2:\n",
        "    ####\n",
        "    ###\n",
        "    ##\n",
        "    #\n",
        "# 1.\n",
        "n=4\n",
        "while(n>=1):\n",
        "  print((n)*'#')\n",
        "  n-=1\n",
        "print()\n",
        "# 2.\n",
        "n=0\n",
        "while(n<4):\n",
        "  print((4-n)*'#')\n",
        "  n+=1\n",
        "\n",
        "\n",
        "print()\n",
        "# task-3:\n",
        "       #\n",
        "      ###\n",
        "     #####\n",
        "    #######\n",
        "n=0\n",
        "while(n<4):\n",
        "  print((3-n)*' ',((2*n)+1)*'#')\n",
        "  n+=1"
      ],
      "metadata": {
        "colab": {
          "base_uri": "https://localhost:8080/"
        },
        "id": "SUkIcXZEADcA",
        "outputId": "dcbc5398-ae4d-4709-9f5e-8d6ab4493ed4"
      },
      "execution_count": null,
      "outputs": [
        {
          "output_type": "stream",
          "name": "stdout",
          "text": [
            "#\n",
            "##\n",
            "###\n",
            "####\n",
            "\n",
            "####\n",
            "###\n",
            "##\n",
            "#\n",
            "\n",
            "####\n",
            "###\n",
            "##\n",
            "#\n",
            "\n",
            "    #\n",
            "   ###\n",
            "  #####\n",
            " #######\n"
          ]
        }
      ]
    },
    {
      "cell_type": "code",
      "source": [
        "'''\n",
        "Funtion:-\n",
        "    def function_name(parameter):\n",
        "\n",
        "-> parameter can be any number.\n",
        "-> function_name can be anything.\n",
        "'''"
      ],
      "metadata": {
        "id": "gnJS83qtAHw6"
      },
      "execution_count": null,
      "outputs": []
    },
    {
      "cell_type": "code",
      "source": [
        "def f():\n",
        "  return 10"
      ],
      "metadata": {
        "id": "xwve1p5mAcKD"
      },
      "execution_count": null,
      "outputs": []
    },
    {
      "cell_type": "code",
      "source": [
        "f()"
      ],
      "metadata": {
        "colab": {
          "base_uri": "https://localhost:8080/"
        },
        "id": "n_ulBE2NAerb",
        "outputId": "0a372aa1-0201-4343-fd41-6895dd03d2a9"
      },
      "execution_count": null,
      "outputs": [
        {
          "output_type": "execute_result",
          "data": {
            "text/plain": [
              "10"
            ]
          },
          "metadata": {},
          "execution_count": 6
        }
      ]
    },
    {
      "cell_type": "code",
      "source": [
        "def f1(*a):\n",
        "  return sum(a)"
      ],
      "metadata": {
        "id": "0lKu-RpxAgqt"
      },
      "execution_count": null,
      "outputs": []
    },
    {
      "cell_type": "code",
      "source": [
        "f1(12,23,34,45,76)"
      ],
      "metadata": {
        "colab": {
          "base_uri": "https://localhost:8080/"
        },
        "id": "2eA-B2nCAisU",
        "outputId": "1c91c87e-c8fe-470d-8678-8ed50129bfe6"
      },
      "execution_count": null,
      "outputs": [
        {
          "output_type": "execute_result",
          "data": {
            "text/plain": [
              "190"
            ]
          },
          "metadata": {},
          "execution_count": 8
        }
      ]
    },
    {
      "cell_type": "code",
      "source": [
        "def f2(a=0,b=0,c=0):\n",
        "  return a+b+c"
      ],
      "metadata": {
        "id": "Z7aYhvFpAljY"
      },
      "execution_count": null,
      "outputs": []
    },
    {
      "cell_type": "code",
      "source": [
        "f2(12,343)"
      ],
      "metadata": {
        "colab": {
          "base_uri": "https://localhost:8080/"
        },
        "id": "nvTk1XLdAnkH",
        "outputId": "e1706c41-bcb3-4ba3-d5ab-2c6f152fc7a6"
      },
      "execution_count": null,
      "outputs": [
        {
          "output_type": "execute_result",
          "data": {
            "text/plain": [
              "355"
            ]
          },
          "metadata": {},
          "execution_count": 10
        }
      ]
    },
    {
      "cell_type": "code",
      "source": [
        "f2(a=23,b=45)"
      ],
      "metadata": {
        "colab": {
          "base_uri": "https://localhost:8080/"
        },
        "id": "AITYsLhoApVG",
        "outputId": "e11411a9-f3fe-403c-cba9-62a80d0fe400"
      },
      "execution_count": null,
      "outputs": [
        {
          "output_type": "execute_result",
          "data": {
            "text/plain": [
              "68"
            ]
          },
          "metadata": {},
          "execution_count": 11
        }
      ]
    },
    {
      "cell_type": "code",
      "source": [
        "# program-1\n",
        "# -> Write a python code, a function  which is return even or odd number.\n",
        "def evenodd(n):\n",
        "  if(n%2==0):\n",
        "    return \"even number\"\n",
        "  else:\n",
        "    return \"odd number\""
      ],
      "metadata": {
        "id": "5bmEBeIwArW6"
      },
      "execution_count": null,
      "outputs": []
    },
    {
      "cell_type": "code",
      "source": [
        "evenodd(56)"
      ],
      "metadata": {
        "colab": {
          "base_uri": "https://localhost:8080/",
          "height": 35
        },
        "id": "LaIPI5RqA29U",
        "outputId": "7527ccdd-9bcc-4e5e-d7a1-106dc776af81"
      },
      "execution_count": null,
      "outputs": [
        {
          "output_type": "execute_result",
          "data": {
            "text/plain": [
              "'even number'"
            ],
            "application/vnd.google.colaboratory.intrinsic+json": {
              "type": "string"
            }
          },
          "metadata": {},
          "execution_count": 14
        }
      ]
    },
    {
      "cell_type": "code",
      "source": [
        "# program-2\n",
        "# -> Write a python code, which return max and min value of a list if i give that list to a function.\n",
        "def f_maximum_list(n):\n",
        "  return max(n)\n",
        "def f_minimum_list(n):\n",
        "  return min(n)"
      ],
      "metadata": {
        "id": "1nhqF0lnA4tB"
      },
      "execution_count": null,
      "outputs": []
    },
    {
      "cell_type": "code",
      "source": [
        "z=[12,23,34,56,10]\n",
        "max_val=f_maximum_list(z)\n",
        "min_val=f_minimum_list(z)\n",
        "print(max_val)\n",
        "print(min_val)"
      ],
      "metadata": {
        "colab": {
          "base_uri": "https://localhost:8080/"
        },
        "id": "dqvLWy1pAt0n",
        "outputId": "5163c3d2-39a1-4a12-dac5-2b645b02e95c"
      },
      "execution_count": null,
      "outputs": [
        {
          "output_type": "stream",
          "name": "stdout",
          "text": [
            "56\n",
            "10\n"
          ]
        }
      ]
    },
    {
      "cell_type": "code",
      "source": [
        "# program -3\n",
        "# -> Write a python code,that will return max value by pass two member.\n",
        "def max2(a,b):\n",
        "  if(a>b):\n",
        "    return a\n",
        "  else:\n",
        "    return b"
      ],
      "metadata": {
        "id": "rHZQMzIrBBjS"
      },
      "execution_count": null,
      "outputs": []
    },
    {
      "cell_type": "code",
      "source": [
        "m=max2(12,3)\n",
        "print(m)"
      ],
      "metadata": {
        "colab": {
          "base_uri": "https://localhost:8080/"
        },
        "id": "M_wucReiCD9x",
        "outputId": "ea312aff-00c1-4094-a6e2-a56b86bbc8db"
      },
      "execution_count": null,
      "outputs": [
        {
          "output_type": "stream",
          "name": "stdout",
          "text": [
            "12\n"
          ]
        }
      ]
    },
    {
      "cell_type": "code",
      "source": [
        "# program-4\n",
        "# -> Write a python code,that will return max value by pass three member.\n",
        "def max3(a,b,c):\n",
        "  if(a>b and a>c):\n",
        "    return a\n",
        "  elif(b>a and b>c):\n",
        "    return b\n",
        "  else:\n",
        "    return c"
      ],
      "metadata": {
        "id": "I-S_EPK7CF0I"
      },
      "execution_count": null,
      "outputs": []
    },
    {
      "cell_type": "code",
      "source": [
        "m=max3(12,4,6)\n",
        "print(m)"
      ],
      "metadata": {
        "colab": {
          "base_uri": "https://localhost:8080/"
        },
        "id": "onS4xp7lCJ08",
        "outputId": "285f86e1-4643-4276-f2da-888f0e06e192"
      },
      "execution_count": null,
      "outputs": [
        {
          "output_type": "stream",
          "name": "stdout",
          "text": [
            "12\n"
          ]
        }
      ]
    },
    {
      "cell_type": "code",
      "source": [
        "# program-5\n",
        "# -> Write a python code,function that will return max value if i am giving any number of values.\n",
        "def maximum1(*a):\n",
        "  return max(a)"
      ],
      "metadata": {
        "id": "T3H6dmapI8nC"
      },
      "execution_count": 3,
      "outputs": []
    },
    {
      "cell_type": "code",
      "source": [
        "maximum1(12,23,45,56)"
      ],
      "metadata": {
        "colab": {
          "base_uri": "https://localhost:8080/"
        },
        "id": "zIAQgD0kKC0Z",
        "outputId": "d6b2cd7a-9986-4f47-f462-4fddfce0dc31"
      },
      "execution_count": 4,
      "outputs": [
        {
          "output_type": "execute_result",
          "data": {
            "text/plain": [
              "56"
            ]
          },
          "metadata": {},
          "execution_count": 4
        }
      ]
    },
    {
      "cell_type": "code",
      "source": [
        "# call function inside a another function.\n",
        "def f1(x):\n",
        "  if(x%2==0):\n",
        "    return 'even'\n",
        "  else:\n",
        "    return 'odd'\n",
        "\n",
        "def f2(x):\n",
        "  if(x>100):\n",
        "    return f1(x)\n",
        "  else:\n",
        "    return 'invalid'"
      ],
      "metadata": {
        "id": "q4GAMYw7KGAQ"
      },
      "execution_count": null,
      "outputs": []
    },
    {
      "cell_type": "code",
      "source": [
        "f2(1201)"
      ],
      "metadata": {
        "colab": {
          "base_uri": "https://localhost:8080/",
          "height": 35
        },
        "id": "mo6WE9R1LY4Y",
        "outputId": "64dc0522-888a-49d9-97ac-7fe02611b2a7"
      },
      "execution_count": null,
      "outputs": [
        {
          "output_type": "execute_result",
          "data": {
            "text/plain": [
              "'odd'"
            ],
            "application/vnd.google.colaboratory.intrinsic+json": {
              "type": "string"
            }
          },
          "metadata": {},
          "execution_count": 22
        }
      ]
    },
    {
      "cell_type": "code",
      "source": [
        "# calling function inside the sasme function(Recursion).\n",
        "# 1.\n",
        "def f1(n):\n",
        "  if(n==0):\n",
        "    return 1\n",
        "  else:\n",
        "    return n*f1(n-1)"
      ],
      "metadata": {
        "id": "pG0SjyMmLtEN"
      },
      "execution_count": null,
      "outputs": []
    },
    {
      "cell_type": "code",
      "source": [
        "f1(5)"
      ],
      "metadata": {
        "colab": {
          "base_uri": "https://localhost:8080/"
        },
        "id": "uFGz5pC2OGrR",
        "outputId": "44c82a0f-9e7e-4520-9efd-8674cae8aca7"
      },
      "execution_count": null,
      "outputs": [
        {
          "output_type": "execute_result",
          "data": {
            "text/plain": [
              "120"
            ]
          },
          "metadata": {},
          "execution_count": 32
        }
      ]
    },
    {
      "cell_type": "code",
      "source": [
        "# 2.\n",
        "def f2(n):\n",
        "  if(n==0):\n",
        "    return 0\n",
        "  else:\n",
        "    return n+f2(n-1)"
      ],
      "metadata": {
        "id": "SdzJFvCUOIes"
      },
      "execution_count": null,
      "outputs": []
    },
    {
      "cell_type": "code",
      "source": [
        "f2(5)"
      ],
      "metadata": {
        "colab": {
          "base_uri": "https://localhost:8080/"
        },
        "id": "Ki9SY4S3PNoh",
        "outputId": "175ed6a3-7159-4ad4-ae42-183aeb4b4568"
      },
      "execution_count": null,
      "outputs": [
        {
          "output_type": "execute_result",
          "data": {
            "text/plain": [
              "15"
            ]
          },
          "metadata": {},
          "execution_count": 33
        }
      ]
    },
    {
      "cell_type": "code",
      "source": [
        "# lambda function.\n",
        "# 1.\n",
        "# -> Write a lambada function simple example.\n",
        "a=lambda x: x+4\n",
        "print(a(3))\n",
        "\n",
        "# 2.\n",
        "# -> Write a lambada function where i will pass a value which return squre of it.\n",
        "a=lambda x: x**2\n",
        "print(a(3))\n",
        "\n",
        "# 3.\n",
        "# -> Write a lambada function where i will pass three value which return sum of three number.\n",
        "a=lambda x,y,z:x+y+z\n",
        "print(a(23,34,56))\n",
        "\n",
        "# 4.\n",
        "# -> Write a lambada function where i will pass two value which return max of it.\n",
        "a=lambda x,y:max(x,y)\n",
        "print(a(23,45))\n",
        "\n",
        "# 5.\n",
        "# -> Write a lambada function where i will pass three value which return max of it.\n",
        "a=lambda x,y,z:max(x,y,z)\n",
        "print(a(23,45,76))\n",
        "\n",
        "# 6.\n",
        "# -> Write a lambada function where i will pass three value which return min of it.\n",
        "a=lambda x,y,z:min(x,y,z)\n",
        "print(a(23,45,76))\n",
        "\n",
        "# 7.\n",
        "# -> Write a lambada function where i will pass a value which return variable is even or odd.\n",
        "a=lambda x:'even' if(x%2==0) else 'odd'\n",
        "print(a(34))\n",
        "print(a(39))\n",
        "\n",
        "# 8.\n",
        "# -> Write a lambada function where i will pass two value which return sum of it is greater than 100 or not.\n",
        "a=lambda x,y:'yes' if((x+y)>100) else 'no'\n",
        "print(a(34,78))\n",
        "print(a(12,23))"
      ],
      "metadata": {
        "colab": {
          "base_uri": "https://localhost:8080/"
        },
        "id": "rMbWYrm2PQVi",
        "outputId": "7b9d269f-7429-4bc2-d7c5-44a72f59025a"
      },
      "execution_count": null,
      "outputs": [
        {
          "output_type": "stream",
          "name": "stdout",
          "text": [
            "7\n",
            "9\n",
            "113\n",
            "45\n",
            "76\n",
            "23\n",
            "even\n",
            "odd\n",
            "yes\n",
            "no\n"
          ]
        }
      ]
    },
    {
      "cell_type": "code",
      "source": [
        "# lambda function on list.\n",
        "# map() , filter()\n",
        "\n",
        "# 1.\n",
        "# -> Write a lambada function on list example.\n",
        "l1=[12,34,56,71,78,23,59]\n",
        "a=lambda i:(i%2==0)\n",
        "print(list(map(a,l1)))\n",
        "\n",
        "# 2.\n",
        "# -> Write a lambada function on list which return value is even or odd.\n",
        "l1=[12,34,56,71,78,23,59]\n",
        "a=lambda i:'even' if(i%2==0) else 'odd'\n",
        "print(list(map(a,l1)))\n",
        "\n",
        "# 3.\n",
        "# -> Write a lambada function on list which return 'high' if value is greater than 100 else return 'low'.\n",
        "l2=[120,23,340,130,340,31,35,130,456,134]\n",
        "a=lambda i:'high' if(i>100) else 'low'\n",
        "print(list(map(a,l2)))\n",
        "\n",
        "# 4.\n",
        "# -> Write a lambada function on list which return 'high' if value is greater than 100 else return 'low'.\n",
        "l3=[34,56,78,23,1,23,32]\n",
        "a=lambda i:(i%2==0)\n",
        "print(list(filter(a,l1)))"
      ],
      "metadata": {
        "colab": {
          "base_uri": "https://localhost:8080/"
        },
        "id": "tz7skZJfSeBV",
        "outputId": "eb87f825-e075-453e-94b8-a94e2c97efbe"
      },
      "execution_count": null,
      "outputs": [
        {
          "output_type": "stream",
          "name": "stdout",
          "text": [
            "[True, True, True, False, True, False, False]\n",
            "['even', 'even', 'even', 'odd', 'even', 'odd', 'odd']\n",
            "['high', 'low', 'high', 'high', 'high', 'low', 'low', 'high', 'high', 'high']\n",
            "[12, 34, 56, 78]\n"
          ]
        }
      ]
    },
    {
      "cell_type": "code",
      "source": [],
      "metadata": {
        "id": "gy3Q6QZ0qclx"
      },
      "execution_count": null,
      "outputs": []
    }
  ]
}